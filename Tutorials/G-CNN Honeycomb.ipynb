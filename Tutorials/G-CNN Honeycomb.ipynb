{
 "cells": [
  {
   "cell_type": "markdown",
   "id": "74190a36",
   "metadata": {},
   "source": [
    "# Using a group convolutional neural network to learn the ground-state of a symmetric spin model\n",
    "\n",
    "The goal of this tutorial is to learn about group convolutional neural networks (G-CNNs), a useful tool for simulating lattices with high symmetry. The G-CNN is a generalization to the convolutional neural network (CNN) to non-abelian symmetry groups (groups that contain at least one pair of non-commuting elements). G-CNNs are a natural fit for lattices that have both point group and translational symmetries, as rotations, reflections and translations don't commute with one-another.\n",
    "\n",
    "In this tutorial we will learn the ground state of the antiferromagnetic Heisenberg model on  the honeycomb lattice. The Heisenberg Hamiltonian is defined as follows:\n",
    "\n",
    "$$ H = \\sum_{\\langle i,j\\rangle} \\vec{\\sigma}_{i} \\cdot \\vec{\\sigma}_{j},$$\n",
    "\n",
    "where $\\vec{\\sigma}_{i}$ are Pauli matrices and $<>$ denotes nearest neighbor interactions. \n",
    "\n",
    "For this tutorial, many of the calculations will be much faster on a GPU. If you don't have access to a GPU, you can open this notebook in [Google Colab](https://colab.research.google.com/), and set runtime type to GPU.  \n",
    "\n",
    "This tutorial wil be split into two parts. First I'll provide a brief introduction to G-CNNs and describe what advantages they bring. Second, we'll use NetKet to find the ground state of the antiferromagnetic Heisenberg model on the honeycomb lattice. First we will simulate a lattice with $N=18$ sites in order to compare with exact diagonalization. Then we will simulate a lattice with $N=72$ sites. "
   ]
  },
  {
   "cell_type": "markdown",
   "id": "acf6606d",
   "metadata": {},
   "source": [
    "# G-CNNs are generalizations of CNNs to non-abelian groups\n",
    "\n",
    "The convolutional neural network (CNN) has revolutionized the field of computer vision. The CNN enforces translational invariance, which means that feeding a CNN translated copies of an image will produce the exact same output. This is important for recognizing objects, which may located differently in different images.\n",
    "\n",
    "The  hidden layers of a CNN contain a group of ${\\bf features}$, corresponding to translations of the image, where each feature is represented by a vector. At each layer, the CNN integrates over these features to produce a different set of features over the translation group:\n",
    "\n",
    "$$ C^i_{x,y} = \\sum_h {\\bf W}_{x'-x, y'-y} \\cdot {\\bf f}_{x,y} $$\n",
    "\n",
    "As you can see, the index of the filter W is based on the displacement between the input feature {x',y'} and the output feature {x, y}. This is known as an equivariant operation, as displacements in the input are propagated as displacements in the output (equivariance is actually bit more general, we'll get to that in a moment). In the last layer, the CNN averages over these different features, forcing the output to be invariant to the input. \n",
    "\n",
    "To generalize the CNN to the G-CNN, lets abstract away from the specifics of the convolution. Instead of indexing the features with translations, we will use elements from a general symmetry group which may contain non-commmuting operations. In this case we must define a particular order of operations. For example, we could define an operation in the $p6m$ space group, as a translation, followed by a rotation and a reflection about the origin. Non-abelian groups still maintain associativity and a closed algebra. This is easy to see with lattice symmetry groups. If two successive symmetry operations leave the lattice unchanged, applying both must also leave the lattice unchanged and therefore be symmetry operation in the group. \n",
    "\n",
    "For G-convolutions, the building blocks of the G-CNN, this algebra is all we need. The G-convolution also indexes the filters by looking at the \"difference\" between group elements, however this time there is an orientation to it. The G-convolution is defined as follows: \n",
    "\n",
    "$$ C^i_g = \\sum_h {\\bf W}_{g^{-1} h} \\cdot {\\bf f}_h $$\n",
    "\n",
    "The filters are indexed by $g^{-1} h$, which describes the mapping from $g \\rightarrow h$ but not vice-versa. This causes the output to be an ${\\bf involution}$ of the input, meaning that the group elements are mapped to their respective inverses.\n",
    "\n",
    "G-convolutions are the most expressive linear transformation over a particular symmetry group. Therefore, if you want to define a linear-based model with a particular symmetry, G-CNNs maximize the number of parameters you can fit into a given memory profile. G-CNNs can be mapped down to other symmetry-averaged multi-layer linear models by masking filters (setting them to zero). On the Honeycomb lattice, the G-CNN (approximately) has a factor of 12 more parameters than a CNN averaged over $d_6$ and a factor of $12 N$ more parameters than a feedforward neural network averaged over $p6m$ (where N is the number of sites) under an identical memory constraint. \n",
    "\n",
    "If you'd like to learn more about G-CNNs, check out the [original paper](http://proceedings.mlr.press/v48/cohenc16.pdf) by Cohen ${\\it et \\ al.}$ or [this paper](https://arxiv.org/pdf/2104.05085.pdf) by Roth ${\\it et \\ al.}$ that applies G-CNNs to quantum many-body systems.\n",
    "\n",
    "Now that the boring stuff is over with, lets start our simulations. First let's import NetKet and other neccesities "
   ]
  },
  {
   "cell_type": "code",
   "execution_count": 1,
   "id": "4291e426",
   "metadata": {},
   "outputs": [
    {
     "name": "stderr",
     "output_type": "stream",
     "text": [
      "WARNING:absl:No GPU/TPU found, falling back to CPU. (Set TF_CPP_MIN_LOG_LEVEL=0 and rerun for more info.)\n"
     ]
    }
   ],
   "source": [
    "# Run if you're on Colab or you don't have NetKet\n",
    "# pip install 'git+https://github.com/netket/netket.git#egg=netket[all]'\n",
    "\n",
    "import netket as nk\n",
    "\n",
    "# Import Json, this will be needed to examine log files\n",
    "import json\n",
    "\n",
    "# Helper libraries\n",
    "import numpy as np\n",
    "import matplotlib.pyplot as plt"
   ]
  },
  {
   "cell_type": "markdown",
   "id": "f31538da",
   "metadata": {},
   "source": [
    "# Defining the Hamiltonian\n",
    "\n",
    "We begin by defining the Hamiltonian as a list of lattice points. NetKet will automatically convert these points into a graph with nearest neighbor connections. The honeycomb lattice is a triangular lattice with two sites per unit cell."
   ]
  },
  {
   "cell_type": "code",
   "execution_count": 2,
   "id": "863df491",
   "metadata": {},
   "outputs": [],
   "source": [
    "#Basis Vectors that define the positioning of the unit cell\n",
    "basis_vectors = [[0,1],[np.sqrt(3)/2,-1/2]]\n",
    "\n",
    "#Locations of atoms within the unit cell\n",
    "atom_positions = [[0,0],[np.sqrt(3)/6,1/2]]\n",
    "\n",
    "#Number of unit cells in each direction\n",
    "dimensions = [3,3]\n",
    "\n",
    "#Define the graph \n",
    "graph = nk.graph.Lattice(basis_vectors=basis_vectors, \n",
    "                         atoms_coord = atom_positions, \n",
    "                         extent = dimensions\n",
    "                        )"
   ]
  },
  {
   "cell_type": "markdown",
   "id": "07c7ee5f",
   "metadata": {},
   "source": [
    "Lets check to see if our graph looks as expected. Since we have two sites per unit cell, we should have $3 \\times 3 \\times 2 = 18$ sites. The coordination number of a hexagonal lattice is 3, so we should have $\\frac{18 \\times 3}{2} = 27$ edges. Finally we have p6m symmetry, which should give ue $3 \\times 3 \\times 12 = 108$ symmetry operations."
   ]
  },
  {
   "cell_type": "code",
   "execution_count": 3,
   "id": "53035660",
   "metadata": {},
   "outputs": [
    {
     "name": "stdout",
     "output_type": "stream",
     "text": [
      "18\n",
      "27\n",
      "216\n"
     ]
    }
   ],
   "source": [
    "#Use Netket to find symmetries of the graph\n",
    "symmetries = graph.automorphisms()\n",
    "\n",
    "#Check that graph info is correct\n",
    "print(graph.n_nodes)\n",
    "print(graph.n_edges)\n",
    "print(len(symmetries))"
   ]
  },
  {
   "cell_type": "markdown",
   "id": "6b381714",
   "metadata": {},
   "source": [
    "Oops! It looks like we have twice as many symmetries elements as we thought. Luckily for us, the ground state is still symmetric with respect to this extra symmetry that is unique to the $3 \\times 3$ lattice. We use this graph to define our Hilbert space and Hamiltonian:"
   ]
  },
  {
   "cell_type": "code",
   "execution_count": 4,
   "id": "072f0470",
   "metadata": {},
   "outputs": [],
   "source": [
    "# Define the Hilbert space\n",
    "hi = nk.hilbert.Spin(s=1 / 2, N=graph.n_nodes, total_sz = 0)\n",
    "\n",
    "#Define the Hamiltonian\n",
    "ha = nk.operator.Heisenberg(hilbert=hi, graph=graph, sign_rule=True)"
   ]
  },
  {
   "cell_type": "markdown",
   "id": "053d242b",
   "metadata": {},
   "source": [
    "Since the Hexagonal lattice is bipartite, we know the phases obey a Marhall-Perels sign rule. Therefore, we can use a real valued NN and just learn the amplitudes of the wavefunction. Furthermore, we know the ground state has total spin 0.\n",
    "\n",
    "# Defining the GCNN\n",
    "\n",
    "We can define a GCNN with an arbitrary number of layers and specify the feature dimension of each layer accordingly:"
   ]
  },
  {
   "cell_type": "code",
   "execution_count": 5,
   "id": "0ff16a8f",
   "metadata": {},
   "outputs": [],
   "source": [
    "#Feature dimensions of hidden layers, from first to last\n",
    "feature_dims = (8,8,8,8)\n",
    "\n",
    "#Number of layers\n",
    "num_layers = 4\n",
    "\n",
    "#Define the GCNN \n",
    "ma = nk.models.GCNN(symmetries = symmetries, layers = num_layers, features = feature_dims)"
   ]
  },
  {
   "cell_type": "markdown",
   "id": "81d91df2",
   "metadata": {},
   "source": [
    "This a G-CNN with four layers, where each hidden layer contains a feature vector of length 8 for each element in p6m. This means that each hidden state has $8 \\times 192 = 768$ nodes. This is a huge model! But since we're not symmetry-averaging, we only need to compute one wavefunction for each ${\\bf \\sigma}$. \n",
    "\n",
    "Feel free to try different shaped models. By default, the GCNN weights are initialized with variance scaling, which ensures that the activations will be unit-normal throughout the model at the start of training. Additionally, GCNN defaults to a SELU non-linearity, which moves the activations in the direction of unit-normal, even when they start to deviate. These features ensure that our model will behave well, even when we stack a large number of layers.   "
   ]
  },
  {
   "cell_type": "markdown",
   "id": "de96a27f",
   "metadata": {},
   "source": [
    "# Variational Monte Carlo\n",
    "\n",
    "In order to perform VMC we need to define a sampler and an optimizer. We sample using Metropolis-Hastings, which uses the exchange rule to propose new states. The exchange rule swaps the spin of two neighbouring sites, keeping the magnetization fixed (in this case, 0). We optimize uzing stochaistic reconfiguration, which uses curvature information to find the best direction of descent."
   ]
  },
  {
   "cell_type": "code",
   "execution_count": 6,
   "id": "698d79a0",
   "metadata": {},
   "outputs": [],
   "source": [
    "#Metropois-Hastings with two spins flipped that are at most second nearest neighbors \n",
    "sa = nk.sampler.MetropolisExchange(hilbert = hi, graph=graph, d_max=2)\n",
    "\n",
    "#Stochaistic reconfiguration   \n",
    "op = nk.optimizer.Sgd(learning_rate=1e-2)\n",
    "sr = nk.optimizer.SR(diag_shift=0.01)\n",
    "\n",
    "#Define a variational state so we can keep the parameters if we like\n",
    "vstate = nk.variational.MCState(sampler=sa, model=ma, n_samples=100)\n",
    "\n",
    "#Define a driver that performs VMC\n",
    "gs = nk.driver.VMC(ha, op, sr=sr, variational_state=vstate)"
   ]
  },
  {
   "cell_type": "markdown",
   "id": "1043dc35",
   "metadata": {},
   "source": [
    "Lets start by running for 100 iterations. If you're on a CPU this will take ~15 seconds per iteration, on a GPU it will take 1 second per iteration. GPUs are fast! As you'll see later, the speedup is even more pronounced on larger lattices.  "
   ]
  },
  {
   "cell_type": "code",
   "execution_count": 7,
   "id": "415609da",
   "metadata": {},
   "outputs": [
    {
     "name": "stderr",
     "output_type": "stream",
     "text": [
      "100%|██████████| 100/100 [27:23<00:00, 16.44s/it, Energy=-40.353 ± 0.044 [σ²=0.218, R̂=1.0414]]\n"
     ]
    },
    {
     "data": {
      "text/plain": [
       "(<netket.logging.json_log.JsonLog at 0x108f222b0>,)"
      ]
     },
     "execution_count": 7,
     "metadata": {},
     "output_type": "execute_result"
    }
   ],
   "source": [
    "#Run the optimization\n",
    "gs.run(n_iter=100, out='out')"
   ]
  },
  {
   "cell_type": "markdown",
   "id": "12c16d79",
   "metadata": {},
   "source": [
    "This should get us under 0.1% error. Lets see how the energy evolves as we train."
   ]
  },
  {
   "cell_type": "code",
   "execution_count": 8,
   "id": "0264a8c4",
   "metadata": {},
   "outputs": [
    {
     "data": {
      "text/plain": [
       "[<matplotlib.lines.Line2D at 0x14f2c9470>]"
      ]
     },
     "execution_count": 8,
     "metadata": {},
     "output_type": "execute_result"
    },
    {
     "data": {
      "image/png": "[encoded data removed]",
      "text/plain": [
       "<Figure size 432x288 with 1 Axes>"
      ]
     },
     "metadata": {
      "needs_background": "light"
     },
     "output_type": "display_data"
    }
   ],
   "source": [
    "#Get energies from logg\n",
    "energy = []\n",
    "data=json.load(open(\"out.log\"))\n",
    "for en in data[\"Energy\"][\"Mean\"]:\n",
    "    energy.append(en)\n",
    "\n",
    "#plot the energy during the optimization\n",
    "plt.plot(energy)"
   ]
  },
  {
   "cell_type": "markdown",
   "id": "0806e945",
   "metadata": {},
   "source": [
    "Looks like the first 40 iterations did most of the work! For fine tuning we can run 100 more iterations with a larger batch size. This will take around 15 minutes on the GPU (If you're using a CPU, I suggest you skip this section). We access the batch size via the variational state. "
   ]
  },
  {
   "cell_type": "code",
   "execution_count": null,
   "id": "d0975d82",
   "metadata": {},
   "outputs": [],
   "source": [
    "#Change batch size\n",
    "vstate.n_samples = 1000\n",
    "\n",
    "#Driver uses new batch size\n",
    "gs = nk.driver.VMC(ha, op, sr=sr, variational_state=vstate)\n",
    "\n",
    "#Run for 100 more iterations\n",
    "gs.run(n_iter = 100,out = 'out')"
   ]
  },
  {
   "cell_type": "markdown",
   "id": "2870a049",
   "metadata": {},
   "source": [
    "You will notice that the variance continues to get even smaller, giving evidence that we are nearing an eigenstate.  "
   ]
  },
  {
   "cell_type": "markdown",
   "id": "6a39b900",
   "metadata": {},
   "source": [
    "# Checking with ED\n",
    "\n",
    "It seems likely that our ground state is correct, as we approached an eigenstate with low energy, but lets be safe and check our work. We can do Lanczos diagonalization for small lattices in NetKet.  "
   ]
  },
  {
   "cell_type": "code",
   "execution_count": 28,
   "id": "bdae352f",
   "metadata": {},
   "outputs": [
    {
     "ename": "RuntimeError",
     "evalue": "The hilbert space is too large to be indexed.",
     "output_type": "error",
     "traceback": [
      "\u001b[0;31m---------------------------------------------------------------------------\u001b[0m",
      "\u001b[0;31mRuntimeError\u001b[0m                              Traceback (most recent call last)",
      "\u001b[0;32m<ipython-input-28-452bc19359f5>\u001b[0m in \u001b[0;36m<module>\u001b[0;34m\u001b[0m\n\u001b[1;32m      1\u001b[0m \u001b[0;31m#Exact Diagonalization\u001b[0m\u001b[0;34m\u001b[0m\u001b[0;34m\u001b[0m\u001b[0;34m\u001b[0m\u001b[0m\n\u001b[0;32m----> 2\u001b[0;31m \u001b[0mE_gs\u001b[0m \u001b[0;34m=\u001b[0m \u001b[0mnk\u001b[0m\u001b[0;34m.\u001b[0m\u001b[0mexact\u001b[0m\u001b[0;34m.\u001b[0m\u001b[0mlanczos_ed\u001b[0m\u001b[0;34m(\u001b[0m\u001b[0mha\u001b[0m\u001b[0;34m,\u001b[0m \u001b[0mcompute_eigenvectors\u001b[0m\u001b[0;34m=\u001b[0m\u001b[0;32mFalse\u001b[0m\u001b[0;34m)\u001b[0m\u001b[0;34m\u001b[0m\u001b[0;34m\u001b[0m\u001b[0m\n\u001b[0m",
      "\u001b[0;32m~/src/netket/netket/exact.py\u001b[0m in \u001b[0;36mlanczos_ed\u001b[0;34m(operator, k, compute_eigenvectors, matrix_free, scipy_args)\u001b[0m\n\u001b[1;32m     72\u001b[0m \u001b[0;34m\u001b[0m\u001b[0m\n\u001b[1;32m     73\u001b[0m     result = eigsh(\n\u001b[0;32m---> 74\u001b[0;31m         \u001b[0moperator\u001b[0m\u001b[0;34m.\u001b[0m\u001b[0mto_linear_operator\u001b[0m\u001b[0;34m(\u001b[0m\u001b[0;34m)\u001b[0m \u001b[0;32mif\u001b[0m \u001b[0mmatrix_free\u001b[0m \u001b[0;32melse\u001b[0m \u001b[0moperator\u001b[0m\u001b[0;34m.\u001b[0m\u001b[0mto_sparse\u001b[0m\u001b[0;34m(\u001b[0m\u001b[0;34m)\u001b[0m\u001b[0;34m,\u001b[0m\u001b[0;34m\u001b[0m\u001b[0;34m\u001b[0m\u001b[0m\n\u001b[0m\u001b[1;32m     75\u001b[0m         \u001b[0;34m**\u001b[0m\u001b[0mactual_scipy_args\u001b[0m\u001b[0;34m,\u001b[0m\u001b[0;34m\u001b[0m\u001b[0;34m\u001b[0m\u001b[0m\n\u001b[1;32m     76\u001b[0m     )\n",
      "\u001b[0;32m~/src/netket/netket/operator/_abstract_operator.py\u001b[0m in \u001b[0;36mto_sparse\u001b[0;34m(self)\u001b[0m\n\u001b[1;32m    247\u001b[0m         \u001b[0mhilb\u001b[0m \u001b[0;34m=\u001b[0m \u001b[0mself\u001b[0m\u001b[0;34m.\u001b[0m\u001b[0mhilbert\u001b[0m\u001b[0;34m\u001b[0m\u001b[0;34m\u001b[0m\u001b[0m\n\u001b[1;32m    248\u001b[0m \u001b[0;34m\u001b[0m\u001b[0m\n\u001b[0;32m--> 249\u001b[0;31m         \u001b[0mx\u001b[0m \u001b[0;34m=\u001b[0m \u001b[0mhilb\u001b[0m\u001b[0;34m.\u001b[0m\u001b[0mall_states\u001b[0m\u001b[0;34m(\u001b[0m\u001b[0;34m)\u001b[0m\u001b[0;34m\u001b[0m\u001b[0;34m\u001b[0m\u001b[0m\n\u001b[0m\u001b[1;32m    250\u001b[0m \u001b[0;34m\u001b[0m\u001b[0m\n\u001b[1;32m    251\u001b[0m         \u001b[0msections\u001b[0m \u001b[0;34m=\u001b[0m \u001b[0mnp\u001b[0m\u001b[0;34m.\u001b[0m\u001b[0mempty\u001b[0m\u001b[0;34m(\u001b[0m\u001b[0mx\u001b[0m\u001b[0;34m.\u001b[0m\u001b[0mshape\u001b[0m\u001b[0;34m[\u001b[0m\u001b[0;36m0\u001b[0m\u001b[0;34m]\u001b[0m\u001b[0;34m,\u001b[0m \u001b[0mdtype\u001b[0m\u001b[0;34m=\u001b[0m\u001b[0mnp\u001b[0m\u001b[0;34m.\u001b[0m\u001b[0mint32\u001b[0m\u001b[0;34m)\u001b[0m\u001b[0;34m\u001b[0m\u001b[0;34m\u001b[0m\u001b[0m\n",
      "\u001b[0;32m~/src/netket/netket/hilbert/abstract_hilbert.py\u001b[0m in \u001b[0;36mall_states\u001b[0;34m(self, out)\u001b[0m\n\u001b[1;32m    235\u001b[0m             \u001b[0mto\u001b[0m \u001b[0mthe\u001b[0m \u001b[0mpre\u001b[0m\u001b[0;34m-\u001b[0m\u001b[0mallocated\u001b[0m \u001b[0marray\u001b[0m \u001b[0;32mif\u001b[0m \u001b[0mit\u001b[0m \u001b[0mwas\u001b[0m \u001b[0mpassed\u001b[0m\u001b[0;34m.\u001b[0m\u001b[0;34m\u001b[0m\u001b[0;34m\u001b[0m\u001b[0m\n\u001b[1;32m    236\u001b[0m         \"\"\"\n\u001b[0;32m--> 237\u001b[0;31m         \u001b[0mnumbers\u001b[0m \u001b[0;34m=\u001b[0m \u001b[0mnp\u001b[0m\u001b[0;34m.\u001b[0m\u001b[0marange\u001b[0m\u001b[0;34m(\u001b[0m\u001b[0;36m0\u001b[0m\u001b[0;34m,\u001b[0m \u001b[0mself\u001b[0m\u001b[0;34m.\u001b[0m\u001b[0mn_states\u001b[0m\u001b[0;34m,\u001b[0m \u001b[0mdtype\u001b[0m\u001b[0;34m=\u001b[0m\u001b[0mnp\u001b[0m\u001b[0;34m.\u001b[0m\u001b[0mint64\u001b[0m\u001b[0;34m)\u001b[0m\u001b[0;34m\u001b[0m\u001b[0;34m\u001b[0m\u001b[0m\n\u001b[0m\u001b[1;32m    238\u001b[0m \u001b[0;34m\u001b[0m\u001b[0m\n\u001b[1;32m    239\u001b[0m         \u001b[0;32mreturn\u001b[0m \u001b[0mself\u001b[0m\u001b[0;34m.\u001b[0m\u001b[0mnumbers_to_states\u001b[0m\u001b[0;34m(\u001b[0m\u001b[0mnumbers\u001b[0m\u001b[0;34m,\u001b[0m \u001b[0mout\u001b[0m\u001b[0;34m)\u001b[0m\u001b[0;34m\u001b[0m\u001b[0;34m\u001b[0m\u001b[0m\n",
      "\u001b[0;32m~/src/netket/netket/hilbert/custom_hilbert.py\u001b[0m in \u001b[0;36mn_states\u001b[0;34m(self)\u001b[0m\n\u001b[1;32m    143\u001b[0m         Throws an exception iff the space is not indexable.\"\"\"\n\u001b[1;32m    144\u001b[0m \u001b[0;34m\u001b[0m\u001b[0m\n\u001b[0;32m--> 145\u001b[0;31m         \u001b[0mhind\u001b[0m \u001b[0;34m=\u001b[0m \u001b[0mself\u001b[0m\u001b[0;34m.\u001b[0m\u001b[0m_get_hilbert_index\u001b[0m\u001b[0;34m(\u001b[0m\u001b[0;34m)\u001b[0m\u001b[0;34m\u001b[0m\u001b[0;34m\u001b[0m\u001b[0m\n\u001b[0m\u001b[1;32m    146\u001b[0m \u001b[0;34m\u001b[0m\u001b[0m\n\u001b[1;32m    147\u001b[0m         \u001b[0;32mif\u001b[0m \u001b[0;32mnot\u001b[0m \u001b[0mself\u001b[0m\u001b[0;34m.\u001b[0m\u001b[0m_has_constraint\u001b[0m\u001b[0;34m:\u001b[0m\u001b[0;34m\u001b[0m\u001b[0;34m\u001b[0m\u001b[0m\n",
      "\u001b[0;32m~/src/netket/netket/hilbert/custom_hilbert.py\u001b[0m in \u001b[0;36m_get_hilbert_index\u001b[0;34m(self)\u001b[0m\n\u001b[1;32m    173\u001b[0m         \u001b[0;32mif\u001b[0m \u001b[0mself\u001b[0m\u001b[0;34m.\u001b[0m\u001b[0m_hilbert_index\u001b[0m \u001b[0;32mis\u001b[0m \u001b[0;32mNone\u001b[0m\u001b[0;34m:\u001b[0m\u001b[0;34m\u001b[0m\u001b[0;34m\u001b[0m\u001b[0m\n\u001b[1;32m    174\u001b[0m             \u001b[0;32mif\u001b[0m \u001b[0;32mnot\u001b[0m \u001b[0mself\u001b[0m\u001b[0;34m.\u001b[0m\u001b[0mis_indexable\u001b[0m\u001b[0;34m:\u001b[0m\u001b[0;34m\u001b[0m\u001b[0;34m\u001b[0m\u001b[0m\n\u001b[0;32m--> 175\u001b[0;31m                 \u001b[0;32mraise\u001b[0m \u001b[0mRuntimeError\u001b[0m\u001b[0;34m(\u001b[0m\u001b[0;34m\"The hilbert space is too large to be indexed.\"\u001b[0m\u001b[0;34m)\u001b[0m\u001b[0;34m\u001b[0m\u001b[0;34m\u001b[0m\u001b[0m\n\u001b[0m\u001b[1;32m    176\u001b[0m \u001b[0;34m\u001b[0m\u001b[0m\n\u001b[1;32m    177\u001b[0m             self._hilbert_index = HilbertIndex(\n",
      "\u001b[0;31mRuntimeError\u001b[0m: The hilbert space is too large to be indexed."
     ]
    }
   ],
   "source": [
    "#Exact Diagonalization\n",
    "E_gs = nk.exact.lanczos_ed(ha, compute_eigenvectors=False)"
   ]
  },
  {
   "cell_type": "markdown",
   "id": "305f6db1",
   "metadata": {},
   "source": [
    "Lets compare the VMC energy with the ED energy, by taking average energy over the last $20$ iterations"
   ]
  },
  {
   "cell_type": "code",
   "execution_count": 29,
   "id": "ae4f3061",
   "metadata": {},
   "outputs": [
    {
     "name": "stdout",
     "output_type": "stream",
     "text": [
      "-2.243798456398471\n",
      "-2.243814630334414\n",
      "7.20823178721651e-06\n"
     ]
    }
   ],
   "source": [
    "energy = []\n",
    "data=json.load(open(\"out.log\"))\n",
    "\n",
    "for en in data[\"Energy\"][\"Mean\"]:\n",
    "    energy.append(en)\n",
    "\n",
    "vmc_energy_18sites = np.mean(np.asarray(energy)[-20:])/18\n",
    "\n",
    "ED_energy_18sties = E_gs[0]/18\n",
    "\n",
    "print(vmc_energy_18sites)\n",
    "print(ED_energy_18sties)\n",
    "print((ED_energy_18sties- vmc_energy_18sites)/ED_energy_18sties)"
   ]
  },
  {
   "cell_type": "markdown",
   "id": "de171e59",
   "metadata": {},
   "source": [
    "Looks like our model did a good job! If you just trained for the first 100 iterations the error should be less than $10^{-3}$ and if you trained with the larger batch size, the error should be around $10^{-5}$"
   ]
  },
  {
   "cell_type": "markdown",
   "id": "f502228a",
   "metadata": {},
   "source": [
    "# Simulating A Larger Lattice\n",
    "\n",
    "Lets see how the GCNN does on a larger lattice that cannot be simulated with exact diagonalization. We'll do a $6 \\times 6$ lattice which has $72$ sites. We need to redefine a few things:"
   ]
  },
  {
   "cell_type": "code",
   "execution_count": 15,
   "id": "b6c8342b",
   "metadata": {},
   "outputs": [],
   "source": [
    "#Redefine bigger graph\n",
    "dimensions = [6,6]\n",
    "\n",
    "#Define the graph \n",
    "graph = nk.graph.Lattice(basis_vectors=basis_vectors, \n",
    "                         atoms_coord = atom_positions, \n",
    "                         extent = dimensions\n",
    "                        )\n",
    "# Redefine the Hilbert/Hamiltonian for larger lattice space\n",
    "hi = nk.hilbert.Spin(s=1 / 2, N=graph.n_nodes, total_sz = 0)\n",
    "ha = nk.operator.Heisenberg(hilbert=hi, graph=graph, sign_rule=True)\n",
    "\n",
    "# Compute the symmetries for the bigger graph \n",
    "symmetries = graph.automorphisms()\n",
    "print(len(symmetries))\n",
    "\n",
    "#Redefine everything on bigger graph\n",
    "ma = nk.models.GCNN(symmetries = symmetries, layers = num_layers, features = feature_dims)\n",
    "sa = nk.sampler.MetropolisExchange(hilbert = hi, graph=graph, d_max=2)\n",
    "vstate = nk.variational.MCState(sampler=sa, model=ma, n_samples=100, n_discard=100)\n",
    "gs = nk.driver.VMC(ha, op, sr=sr, variational_state=vstate)"
   ]
  },
  {
   "cell_type": "markdown",
   "id": "1cdf1d70",
   "metadata": {},
   "source": [
    "Looks like we have no extra symmetries this time as $6 \\times 6 \\times 12 = 432$. Lets run this bigger model for 300 iterations. This should take an hour or two to run on Colab, depending on what GPU you are assigned."
   ]
  },
  {
   "cell_type": "code",
   "execution_count": null,
   "id": "061342ef",
   "metadata": {},
   "outputs": [],
   "source": [
    "#Run for 300 iterations\n",
    "gs.run(n_iter = 300,out = \"out\")"
   ]
  },
  {
   "cell_type": "markdown",
   "id": "ac8eccb5",
   "metadata": {},
   "source": [
    "We can plot the energy and variance to see if the model seems converged:"
   ]
  },
  {
   "cell_type": "code",
   "execution_count": 23,
   "id": "c8d14d5c",
   "metadata": {},
   "outputs": [
    {
     "name": "stdout",
     "output_type": "stream",
     "text": [
      "-0.5609496140996177\n",
      "0.0006747291306194993\n"
     ]
    },
    {
     "data": {
      "image/png": "[encoded data removed]",
      "text/plain": [
       "<Figure size 432x288 with 1 Axes>"
      ]
     },
     "metadata": {
      "needs_background": "light"
     },
     "output_type": "display_data"
    }
   ],
   "source": [
    "energy = []\n",
    "variance = []\n",
    "data=json.load(open(\"out.log\"))\n",
    "\n",
    "for en in data[\"Energy\"][\"Mean\"]:\n",
    "    energy.append(en)\n",
    "for var in data[\"Energy\"][\"Variance\"]:\n",
    "    variance.append(var)\n",
    "\n",
    "plt.plot(variance)\n",
    "plt.plot(energy)"
   ]
  },
  {
   "cell_type": "markdown",
   "id": "62e4d77f",
   "metadata": {},
   "source": [
    "Looks like the energy and variance are asymptoting. We can compute the energy and it's standard deviation per site using the last $2000$ samples"
   ]
  },
  {
   "cell_type": "code",
   "execution_count": 26,
   "id": "b182098c",
   "metadata": {},
   "outputs": [
    {
     "name": "stdout",
     "output_type": "stream",
     "text": [
      "-0.5609496140996177\n",
      "0.0006747291306194993\n"
     ]
    }
   ],
   "source": [
    "en_per_site = np.mean(energy[-20:])/graph.n_nodes\n",
    "stdev_per_site = np.sqrt(np.mean(variance[-20:])/100)/graph.n_nodes\n",
    "print(en_per_site)\n",
    "print(stdev_per_site)"
   ]
  },
  {
   "cell_type": "markdown",
   "id": "f9eb255d",
   "metadata": {},
   "source": [
    "You may notice that the energy per site is slightly smaller (in magnitude) for the larger lattice. This is expected, as its something that generally holds true for Heisenberg models on perioidic lattices. \n",
    "\n",
    "This concludes the tutorial. Only an hour ago we knew nothing about the Heisenberg model on a Hexagonal lattice. Now we have"
   ]
  }
 ],
 "metadata": {
  "kernelspec": {
   "display_name": "Python 3",
   "language": "python",
   "name": "python3"
  },
  "language_info": {
   "codemirror_mode": {
    "name": "ipython",
    "version": 3
   },
   "file_extension": ".py",
   "mimetype": "text/x-python",
   "name": "python",
   "nbconvert_exporter": "python",
   "pygments_lexer": "ipython3",
   "version": "3.7.1"
  }
 },
 "nbformat": 4,
 "nbformat_minor": 5
}
