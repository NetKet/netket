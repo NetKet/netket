{
 "cells": [
  {
   "cell_type": "markdown",
   "metadata": {},
   "source": [
    "# Variational Monte Carlo with Neural Networks\n",
    "\n",
    "In this tutorial we will use the NetKet software package to find the ground state of the J1-J2 model in one-dimension with periodic boundary condition. The Hamiltonian of the model is given by:\n",
    "\n",
    "$$ H = \\sum_{i=1}^{L} J_{1}\\hat{S}_{i} \\cdot \\hat{S}_{i+1} + J_{2} \\hat{S}_{i} \\cdot \\hat{S}_{i+2} $$\n",
    "\n",
    "where the sum is over sites of the 1-D chain.\n",
    "\n",
    "\n",
    "We will also explore some useful functionalities provided by the package.\n",
    "\n",
    "## Objectives:\n",
    "    1. Defining custom Hamiltonians\n",
    "    2. Defining the machine (variational ansatz)\n",
    "    3. Variational Monte Carlo Optimisation\n",
    "    4. Measuring observables\n",
    "    5. Data Visualisation\n",
    "    6. Sanity Check: Exact Diagonalisation\n",
    "    \n",
    "Let's start."
   ]
  },
  {
   "cell_type": "code",
   "execution_count": 1,
   "metadata": {},
   "outputs": [],
   "source": [
    "# Import netket library\n",
    "import netket as nk\n",
    "from mpi4py import MPI\n",
    "\n",
    "# Helper libraries\n",
    "import numpy as np\n",
    "import matplotlib.pyplot as plt"
   ]
  },
  {
   "cell_type": "markdown",
   "metadata": {},
   "source": [
    "## 1) Defining a Custom Hamiltonian\n",
    "\n",
    "The first thing to do is to define the graph (lattice) on which to specify the Hamiltonian. Here we would like to build a one-dimensional graph with both nearest and next nearest neighbour bonds. The graph is created in the ``nk.graph.CustomGraph`` class. To initialise the class we simply provide a list of edges in the ``[[site_i, site_j, edge_color], ...]``"
   ]
  },
  {
   "cell_type": "code",
   "execution_count": 2,
   "metadata": {},
   "outputs": [],
   "source": [
    "#Couplings J1 and J2\n",
    "J = [1, 0.2]\n",
    "L = 16"
   ]
  },
  {
   "cell_type": "code",
   "execution_count": 3,
   "metadata": {},
   "outputs": [],
   "source": [
    "# Define custom graph\n",
    "edge_colors = []\n",
    "for i in range(L):\n",
    "    edge_colors.append([i, (i+1)%L, 1])\n",
    "    edge_colors.append([i, (i+2)%L, 2])\n",
    "\n",
    "# Define the netket graph object\n",
    "g = nk.graph.CustomGraph(edge_colors)"
   ]
  },
  {
   "cell_type": "markdown",
   "metadata": {},
   "source": [
    "We specify a different ``color`` for each type of bond so as to define the a different operator for each of them."
   ]
  },
  {
   "cell_type": "markdown",
   "metadata": {},
   "source": [
    "Next, we define the relevant bond operators. "
   ]
  },
  {
   "cell_type": "code",
   "execution_count": 4,
   "metadata": {},
   "outputs": [],
   "source": [
    "#Sigma^z*Sigma^z interactions\n",
    "sigmaz = [[1, 0], [0, -1]]\n",
    "mszsz = (np.kron(sigmaz, sigmaz))\n",
    "\n",
    "#Exchange interactions\n",
    "exchange = np.asarray([[0, 0, 0, 0], [0, 0, 2, 0], [0, 2, 0, 0], [0, 0, 0, 0]])\n",
    "\n",
    "bond_operator = [\n",
    "    (J[0] * mszsz).tolist(),\n",
    "    (J[1] * mszsz).tolist(),\n",
    "    (-J[0] * exchange).tolist(),  \n",
    "    (J[1] * exchange).tolist(),\n",
    "]\n",
    "\n",
    "bond_color = [1, 2, 1, 2]"
   ]
  },
  {
   "cell_type": "markdown",
   "metadata": {},
   "source": [
    "Notice the minus sign in front of the exchange. This is simply a basis rotation corresponndign to the Marshall sign rule to help alleviate the sign problem. The model is still not completely sign problem free due to the next nearest neighbour coupling."
   ]
  },
  {
   "cell_type": "markdown",
   "metadata": {},
   "source": [
    "Before defining the Hamiltonian, we also need to specify the Hilbert space. For our case, this would be the chain spin-half degrees of freedom."
   ]
  },
  {
   "cell_type": "code",
   "execution_count": 5,
   "metadata": {},
   "outputs": [],
   "source": [
    "# Spin based Hilbert Space\n",
    "hi = nk.hilbert.Spin(s=0.5, total_sz=0.0, graph=g)"
   ]
  },
  {
   "cell_type": "markdown",
   "metadata": {},
   "source": [
    "Now we can define the custom graph Hamiltonian using the ``nk.operator.GraphOperator`` class, by providing the hilbert space ``hi``, the bond operators ``bondops=bond_operator`` and the corresponding bond color ``bondops_colors=bond_color``. The information about the graph (bonds and bond colors) are contained within the ``nk.hilbert.Spin`` object ``hi``."
   ]
  },
  {
   "cell_type": "code",
   "execution_count": 6,
   "metadata": {},
   "outputs": [],
   "source": [
    "# Custom Hamiltonian operator\n",
    "op = nk.operator.GraphOperator(hi, bondops=bond_operator, bondops_colors=bond_color)"
   ]
  },
  {
   "cell_type": "markdown",
   "metadata": {},
   "source": [
    "## 2) Defining the Machine\n",
    "\n",
    "For this tutorial, we shall use the most common type of neural network: fully connected feedforward neural network ``nk.machine.FFNN``. "
   ]
  },
  {
   "cell_type": "code",
   "execution_count": 7,
   "metadata": {},
   "outputs": [],
   "source": [
    "# Define the fully-connected FFNN\n",
    "layers = (nk.layer.FullyConnected(input_size=L,output_size=2*L,use_bias=True),\n",
    "          nk.layer.Lncosh(input_size=2*L),\n",
    "          nk.layer.SumOutput(input_size=2*L))\n",
    "for layer in layers:\n",
    "    layer.init_random_parameters(seed=1234, sigma=0.01)\n",
    "    \n",
    "ffnn = nk.machine.FFNN(hi, layers)"
   ]
  },
  {
   "cell_type": "markdown",
   "metadata": {},
   "source": [
    "## 3) Variational Monte Carlo Optimisation\n",
    "\n",
    "We have now setup our model (Hamiltonian, Graph, Hilbert Space) and can proceed to optimise the variational ansatz we chose namely the ``ffnn`` machine.\n",
    "\n",
    "To setup the variational Monte Carlo optimisation tool, we have to provide a sampler ``nk.sampler`` and an optimizer ``nk.optimizer``."
   ]
  },
  {
   "cell_type": "code",
   "execution_count": 8,
   "metadata": {},
   "outputs": [],
   "source": [
    "# We shall use an exchange Sampler which preserves the global magnnetization\n",
    "sa = nk.sampler.MetropolisExchange(graph=g, machine=ffnn, d_max = 2)\n",
    "\n",
    "# We choose most base Optimizer namely stochastic gradient descent\n",
    "opt = nk.optimizer.Sgd(learning_rate=0.01)\n",
    "\n",
    "# We can then specify VMC object one for the rbm and one for the ffnn\n",
    "gs = nk.variational.Vmc(hamiltonian=op,\n",
    "                        sampler=sa,\n",
    "                        optimizer=opt,\n",
    "                        n_samples=1000,\n",
    "                        use_iterative=True,\n",
    "                        method='Sr')"
   ]
  },
  {
   "cell_type": "markdown",
   "metadata": {},
   "source": [
    "## 4) Measuring Observables\n",
    "\n",
    "Before running the optimization, it can be helpful to add some observables to keep track off during the optimization, e.g. staggered magnetization. For our purpose, let us measure the Neel order defined by\n",
    "\n",
    "$$ \\frac{1}{L(L+2)} \\sum_{ij} \\langle \\hat{S}_{i} \\cdot \\hat{S}_{j}\\rangle e^{i\\pi(i-j)}$$."
   ]
  },
  {
   "cell_type": "code",
   "execution_count": 9,
   "metadata": {},
   "outputs": [],
   "source": [
    "# We need specify the local operators as a matrix acting on a local Hilbert space \n",
    "neel = []\n",
    "sites = []\n",
    "for i in range(0, L):\n",
    "    for j in range(0, L):\n",
    "        neel.append((((-1)**(i-j))*(mszsz+((-1)**(i+j))*exchange)).tolist())\n",
    "        sites.append([i,j])\n",
    "neel_order = nk.operator.LocalOperator(hi, neel, sites)\n",
    "\n",
    "# Add the observable to the VMC object\n",
    "gs.add_observable(neel_order, \"neel\")"
   ]
  },
  {
   "cell_type": "markdown",
   "metadata": {},
   "source": [
    "Once again, notice that we had to multiply the exchange operator (matrix) by some factor. This is to account for the Marshall basis rotation we made in our model."
   ]
  },
  {
   "cell_type": "markdown",
   "metadata": {},
   "source": [
    "We can now optimize our variational ansatz. The optimization data for each iteration would be stored in a log file. \n",
    "In each iteration, the following innformation is saved inn the specified log file:\n",
    "1. Mean, variance and uncertainty in the Energy $ \\langle \\hat{H} \\rangle $\n",
    "2. Mean, variance and uncertainty in the Energy Variance, $ \\langle\\hat{H}^{2}\\rangle-\\langle \\hat{H}\\rangle^{2}$.\n",
    "3. Acceptance rates of the sampler\n",
    "4. Mean, variance and uncertainty of observables (if specified)"
   ]
  },
  {
   "cell_type": "code",
   "execution_count": 10,
   "metadata": {},
   "outputs": [],
   "source": [
    "# Run the optimization protocol\n",
    "gs.run(output_prefix='test', n_iter=400)"
   ]
  },
  {
   "cell_type": "markdown",
   "metadata": {},
   "source": [
    "## 5) Data Visualisation\n",
    "\n",
    "Now that we have optimized our machine to find the ground state of the J1-J2 model, let's look at what we have.\n",
    "The relevant data are stored in the \".log\" file while the optimized parameters are inn the \".wf\" file. The files are all in json format.\n",
    "\n",
    "We shall extract the energy as well our specified observable (Neel order for our case) from the \".log\" file."
   ]
  },
  {
   "cell_type": "code",
   "execution_count": 11,
   "metadata": {},
   "outputs": [],
   "source": [
    "# Load the data from the .log file\n",
    "import json\n",
    "\n",
    "data=json.load(open(\"test.log\"))\n",
    "\n",
    "# Extract the relevant information\n",
    "\n",
    "iters=[]\n",
    "energy=[]\n",
    "neel=[]\n",
    "\n",
    "for iteration in data[\"Output\"]:\n",
    "    iters.append(iteration[\"Iteration\"])\n",
    "    energy.append(iteration[\"Energy\"][\"Mean\"])\n",
    "    neel.append(iteration[\"neel\"][\"Mean\"])"
   ]
  },
  {
   "cell_type": "code",
   "execution_count": 12,
   "metadata": {},
   "outputs": [
    {
     "data": {
      "image/png": "[encoded data removed]",
      "text/plain": [
       "<Figure size 432x288 with 2 Axes>"
      ]
     },
     "metadata": {
      "needs_background": "light"
     },
     "output_type": "display_data"
    }
   ],
   "source": [
    "fig, ax1 = plt.subplots()\n",
    "ax1.plot(iters, energy, color='blue', label='Energy')\n",
    "ax1.set_ylabel('Energy')\n",
    "ax1.set_xlabel('Iteration')\n",
    "ax2 = ax1.twinx() \n",
    "ax2.plot(iters, np.array(neel)/(L*(L+2)), color='green', label='Neel')\n",
    "ax2.set_ylabel('Neel')\n",
    "ax1.legend(loc=2)\n",
    "ax2.legend(loc=1)\n",
    "plt.show()"
   ]
  },
  {
   "cell_type": "markdown",
   "metadata": {},
   "source": [
    "Let's also compute the average of those quantities (energy and neel order) over the last 50 iterations where the optimization seems to have connverged."
   ]
  },
  {
   "cell_type": "code",
   "execution_count": 13,
   "metadata": {},
   "outputs": [
    {
     "name": "stdout",
     "output_type": "stream",
     "text": [
      "Neel order = 0.538(0.002)\n",
      "Energy = -26.304(0.001)\n"
     ]
    }
   ],
   "source": [
    "print(r\"Neel order = {0:.3f}({1:.3f})\".format(np.mean(neel[-50:])/(L*(L+2)),\n",
    "                                              np.std(np.array(neel[-50:])/(L*(L+2)))/np.sqrt(50)))\n",
    "print(r\"Energy = {0:.3f}({1:.3f})\".format(np.mean(energy[-50:]), np.std(energy[-50:])/(np.sqrt(50))))"
   ]
  },
  {
   "cell_type": "markdown",
   "metadata": {},
   "source": [
    "## 6) Sanity Check: Exact Diagonalisation\n",
    "\n",
    "Now that we have obtained some results using VMC, it is a good time to check the quality of our results (at least for small system sizes). For this purpose, the ``netket`` library provides exact diagonalisation tools."
   ]
  },
  {
   "cell_type": "code",
   "execution_count": 14,
   "metadata": {},
   "outputs": [],
   "source": [
    "res = nk.exact.lanczos_ed(op, first_n=1, compute_eigenvectors=True)"
   ]
  },
  {
   "cell_type": "code",
   "execution_count": 15,
   "metadata": {},
   "outputs": [
    {
     "name": "stdout",
     "output_type": "stream",
     "text": [
      "g.s. neel order: 0.544\n",
      "Exact ground state energy = -26.308\n"
     ]
    }
   ],
   "source": [
    "print(\"g.s. neel order: {0:.3f}\".format(np.real(res.mean(neel_order, 0))/(L*(L+2))))\n",
    "print(\"Exact ground state energy = {0:.3f}\".format(res.eigenvalues[0]))"
   ]
  },
  {
   "cell_type": "markdown",
   "metadata": {},
   "source": [
    "So we see that the both energy and the neel order we obtained is in agreement with the value obtained via exact diagonalisation."
   ]
  }
 ],
 "metadata": {
  "kernelspec": {
   "display_name": "Python 3",
   "language": "python",
   "name": "python3"
  },
  "language_info": {
   "codemirror_mode": {
    "name": "ipython",
    "version": 3
   },
   "file_extension": ".py",
   "mimetype": "text/x-python",
   "name": "python",
   "nbconvert_exporter": "python",
   "pygments_lexer": "ipython3",
   "version": "3.6.6"
  }
 },
 "nbformat": 4,
 "nbformat_minor": 2
}
